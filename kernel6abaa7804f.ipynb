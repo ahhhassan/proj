{
 "cells": [
  {
   "cell_type": "code",
   "execution_count": 1,
   "metadata": {},
   "outputs": [],
   "source": []
  },
  {
   "cell_type": "markdown",
   "metadata": {
    "colab_type": "text",
    "id": "e4jMcClVbwz4"
   },
   "source": [
    "Import Libraries\n",
    "numpy , pandas, set their options , iteration tools , label encoder, seaborn,XGBRegressor, define plots"
   ]
  },
  {
   "cell_type": "code",
   "execution_count": 1,
   "metadata": {
    "colab": {
     "base_uri": "https://localhost:8080/",
     "height": 35
    },
    "colab_type": "code",
    "id": "XXlA1p2rbyTx",
    "outputId": "0ab622be-bf4d-4baf-b07d-f86b709cf3ac"
   },
   "outputs": [
    {
     "data": {
      "text/plain": [
       "sys.version_info(major=3, minor=6, micro=6, releaselevel='final', serial=0)"
      ]
     },
     "execution_count": 1,
     "metadata": {},
     "output_type": "execute_result"
    }
   ],
   "source": [
    "import numpy as np\n",
    "import pandas as pd\n",
    "pd.set_option('display.max_rows', 500)\n",
    "pd.set_option('display.max_columns', 100)\n",
    "\n",
    "from itertools import product\n",
    "from sklearn.preprocessing import LabelEncoder\n",
    "\n",
    "import seaborn as sns\n",
    "import matplotlib.pyplot as plt\n",
    "%matplotlib inline\n",
    "\n",
    "from xgboost import XGBRegressor\n",
    "from xgboost import plot_importance\n",
    "\n",
    "def plot_features(booster, figsize):    \n",
    "    fig, ax = plt.subplots(1,1,figsize=figsize)\n",
    "    return plot_importance(booster=booster, ax=ax)\n",
    "\n",
    "import time\n",
    "import sys\n",
    "import gc\n",
    "import pickle\n",
    "sys.version_info "
   ]
  },
  {
   "cell_type": "markdown",
   "metadata": {
    "colab_type": "text",
    "id": "qR6aDzHEb_Er"
   },
   "source": [
    "Import Datasets into variables"
   ]
  },
  {
   "cell_type": "code",
   "execution_count": 2,
   "metadata": {},
   "outputs": [
    {
     "name": "stdout",
     "output_type": "stream",
     "text": [
      "/kaggle/input\n"
     ]
    }
   ],
   "source": [
    "cd /kaggle/input"
   ]
  },
  {
   "cell_type": "markdown",
   "metadata": {
    "colab_type": "text",
    "id": "SewML4Dec9xq"
   },
   "source": [
    "Outliers\n",
    "\n",
    "There are items with strange prices and sales. After detailed exploration I decided to remove items with price > 100000 and sales > 1001 (1000 is ok)."
   ]
  },
  {
   "cell_type": "code",
   "execution_count": 3,
   "metadata": {
    "colab": {},
    "colab_type": "code",
    "id": "BFvJXQJpcAzi"
   },
   "outputs": [],
   "source": [
    "items = pd.read_csv('/kaggle/input/items.csv')\n",
    "shops = pd.read_csv('/kaggle/input/shops.csv')\n",
    "cats = pd.read_csv('/kaggle/input/item_categories.csv')\n",
    "train = pd.read_csv('/kaggle/input/sales_train.csv')\n",
    "# set index to ID to avoid droping it later\n",
    "test  = pd.read_csv('/kaggle/input/test.csv').set_index('ID')"
   ]
  },
  {
   "cell_type": "code",
   "execution_count": 4,
   "metadata": {
    "colab": {
     "base_uri": "https://localhost:8080/",
     "height": 569
    },
    "colab_type": "code",
    "id": "EzTRAuoAdDg5",
    "outputId": "64b1ba52-1e0d-40db-b336-ca7fcb3e9a4e"
   },
   "outputs": [
    {
     "data": {
      "text/plain": [
       "<matplotlib.axes._subplots.AxesSubplot at 0x7f07c73a7b00>"
      ]
     },
     "execution_count": 4,
     "metadata": {},
     "output_type": "execute_result"
    },
    {
     "data": {
      "image/png": "[encoded data removed]",
      "text/plain": [
       "<Figure size 720x288 with 1 Axes>"
      ]
     },
     "metadata": {},
     "output_type": "display_data"
    },
    {
     "data": {
      "image/png": "[encoded data removed]",
      "text/plain": [
       "<Figure size 720x288 with 1 Axes>"
      ]
     },
     "metadata": {},
     "output_type": "display_data"
    }
   ],
   "source": [
    "plt.figure(figsize=(10,4))\n",
    "plt.xlim(-100, 3000)\n",
    "sns.boxplot(x=train.item_cnt_day)\n",
    "\n",
    "plt.figure(figsize=(10,4))\n",
    "plt.xlim(train.item_price.min(), train.item_price.max()*1.1)\n",
    "sns.boxplot(x=train.item_price)"
   ]
  },
  {
   "cell_type": "markdown",
   "metadata": {
    "colab_type": "text",
    "id": "gtrQ1iWhiMur"
   },
   "source": [
    "Remove items with price > 100000 and count per day > 1000\n",
    "\n",
    "1.   List item\n",
    "2.   List item\n",
    "\n"
   ]
  },
  {
   "cell_type": "code",
   "execution_count": 5,
   "metadata": {
    "colab": {},
    "colab_type": "code",
    "id": "j9bZfczviSkZ"
   },
   "outputs": [],
   "source": [
    "train = train[train.item_price<100000]\n",
    "train = train[train.item_cnt_day<1001]"
   ]
  },
  {
   "cell_type": "markdown",
   "metadata": {
    "colab_type": "text",
    "id": "wak5hOHhipMT"
   },
   "source": [
    "The item below zero (invalid) fill it with median\n"
   ]
  },
  {
   "cell_type": "code",
   "execution_count": 6,
   "metadata": {
    "colab": {},
    "colab_type": "code",
    "id": "EPLgTWqFipgq"
   },
   "outputs": [],
   "source": [
    "median = train[(train.shop_id==32)&(train.item_id==2973)&(train.date_block_num==4)&(train.item_price>0)].item_price.median() # taking the median of the same case values\n",
    "train.loc[train.item_price<0, 'item_price'] = median # update the item price with the median calculated"
   ]
  },
  {
   "cell_type": "markdown",
   "metadata": {
    "colab_type": "text",
    "id": "ezhBOh0SjFyr"
   },
   "source": [
    "Several shops are duplicates of each other (according to its name). Fix train and test set.\n",
    "\n"
   ]
  },
  {
   "cell_type": "code",
   "execution_count": 7,
   "metadata": {
    "colab": {},
    "colab_type": "code",
    "id": "iNmVMelajGTd"
   },
   "outputs": [],
   "source": [
    "# Якутск Орджоникидзе, 56\n",
    "train.loc[train.shop_id == 0, 'shop_id'] = 57\n",
    "test.loc[test.shop_id == 0, 'shop_id'] = 57\n",
    "# Якутск ТЦ \"Центральный\"\n",
    "train.loc[train.shop_id == 1, 'shop_id'] = 58\n",
    "test.loc[test.shop_id == 1, 'shop_id'] = 58\n",
    "# Жуковский ул. Чкалова 39м²\n",
    "train.loc[train.shop_id == 10, 'shop_id'] = 11\n",
    "test.loc[test.shop_id == 10, 'shop_id'] = 11"
   ]
  },
  {
   "cell_type": "markdown",
   "metadata": {
    "colab_type": "text",
    "id": "XgDj0hRKjWOE"
   },
   "source": [
    "\n",
    "**Shops/Cats/Items preprocessing**\n",
    "\n",
    "Observations:\n",
    "\n",
    "Each shop_name starts with the city name.\n",
    "Each category contains type and subtype in its name."
   ]
  },
  {
   "cell_type": "code",
   "execution_count": 8,
   "metadata": {
    "colab": {},
    "colab_type": "code",
    "id": "4ixyymtmjiop"
   },
   "outputs": [],
   "source": [
    "shops.loc[shops.shop_name == 'Сергиев Посад ТЦ \"7Я\"', 'shop_name'] = 'СергиевПосад ТЦ \"7Я\"'  # to be consistent with other names\n",
    "shops['city'] = shops['shop_name'].str.split(' ').map(lambda x: x[0])       # takes the name of the city out of the shop name\n",
    "shops.loc[shops.city == '!Якутск', 'city'] = 'Якутск'                       # remove the ! sign in the beginning of the city name\n",
    "shops['city_code'] = LabelEncoder().fit_transform(shops['city'])            # encode the city names\n",
    "shops = shops[['shop_id','city_code']]                                      # construct city code / shop id pairs\n",
    "\n",
    "cats['split'] = cats['item_category_name'].str.split('-')                   # takes first part of category name\n",
    "cats['type'] = cats['split'].map(lambda x: x[0].strip())                    # maps this taken part\n",
    "cats['type_code'] = LabelEncoder().fit_transform(cats['type'])              # encodes it\n",
    "# if subtype is nan then type\n",
    "cats['subtype'] = cats['split'].map(lambda x: x[1].strip() if len(x) > 1 else x[0].strip()) # doing the same for subtypes\n",
    "cats['subtype_code'] = LabelEncoder().fit_transform(cats['subtype']) \n",
    "cats = cats[['item_category_id','type_code', 'subtype_code']]               # constructing groups of id and type and subtype codes\n",
    "\n",
    "items.drop(['item_name'], axis=1, inplace=True)                             # removes item name from the list"
   ]
  },
  {
   "cell_type": "markdown",
   "metadata": {
    "colab_type": "text",
    "id": "PPU0a20RlYBF"
   },
   "source": [
    "**Monthly sales**\n",
    "\n",
    "Test set is a product of some shops and some items within 34 month. There are 5100 items * 42 shops = 214200 pairs. 363 items are new compared to the train. Hence, for the most of the items in the test set target value should be zero. In the other hand train set contains only pairs which were sold or returned in the past. Tha main idea is to calculate monthly sales and extend it with zero sales for each unique pair within the month. This way train data will be similar to test data.\n",
    "\n",
    " this line generates:\n",
    " 1- shops that aren't trained\n",
    " 2- items\n",
    " 3- all pairs ( item * shop)\n",
    "\n"
   ]
  },
  {
   "cell_type": "code",
   "execution_count": 9,
   "metadata": {
    "colab": {
     "base_uri": "https://localhost:8080/",
     "height": 35
    },
    "colab_type": "code",
    "id": "UaBBdApela7b",
    "outputId": "d3a6d6de-be06-4bee-b642-88da960ff7be"
   },
   "outputs": [
    {
     "data": {
      "text/plain": [
       "(363, 5100, 214200)"
      ]
     },
     "execution_count": 9,
     "metadata": {},
     "output_type": "execute_result"
    }
   ],
   "source": [
    "len(list(set(test.item_id) - set(test.item_id).intersection(set(train.item_id)))), len(list(set(test.item_id))), len(test)\n",
    "\n",
    "  "
   ]
  },
  {
   "cell_type": "code",
   "execution_count": 10,
   "metadata": {
    "colab": {
     "base_uri": "https://localhost:8080/",
     "height": 35
    },
    "colab_type": "code",
    "id": "YLyp-J8OxbCz",
    "outputId": "1d5357c9-1634-4e57-d83d-6f2ceb6fc849"
   },
   "outputs": [
    {
     "data": {
      "text/plain": [
       "10.955835103988647"
      ]
     },
     "execution_count": 10,
     "metadata": {},
     "output_type": "execute_result"
    }
   ],
   "source": [
    "ts = time.time()\n",
    "matrix = []\n",
    "cols = ['date_block_num','shop_id','item_id']\n",
    "for i in range(34):\n",
    "    sales = train[train.date_block_num==i]\n",
    "    matrix.append(np.array(list(product([i], sales.shop_id.unique(), sales.item_id.unique())), dtype='int16'))\n",
    "    \n",
    "matrix = pd.DataFrame(np.vstack(matrix), columns=cols)\n",
    "matrix['date_block_num'] = matrix['date_block_num'].astype(np.int8)\n",
    "matrix['shop_id'] = matrix['shop_id'].astype(np.int8)\n",
    "matrix['item_id'] = matrix['item_id'].astype(np.int16)\n",
    "matrix.sort_values(cols,inplace=True)\n",
    "time.time() - ts"
   ]
  },
  {
   "cell_type": "markdown",
   "metadata": {
    "colab_type": "text",
    "id": "nN6F2f1uxbez"
   },
   "source": [
    "Aggregate train set by shop/item pairs to calculate target aggreagates, then clip(0,20) target value. This way train target will be similar to the test predictions.\n",
    "\n",
    "I use floats instead of ints for item_cnt_month to avoid downcasting it after concatination with the test set later. If it would be int16, after concatination with NaN values it becomes int64, but foat16 becomes float16 even with NaNs.\n",
    "\n",
    "> Indented block\n",
    "\n"
   ]
  },
  {
   "cell_type": "code",
   "execution_count": 11,
   "metadata": {
    "colab": {},
    "colab_type": "code",
    "id": "Kf6dLhonxeGw"
   },
   "outputs": [],
   "source": [
    "train['revenue'] = train['item_price'] *  train['item_cnt_day']"
   ]
  },
  {
   "cell_type": "code",
   "execution_count": 12,
   "metadata": {
    "colab": {
     "base_uri": "https://localhost:8080/",
     "height": 35
    },
    "colab_type": "code",
    "id": "Uu9fcxdAxgK7",
    "outputId": "13a0a557-7d59-4f90-ada0-37f06ecff50a"
   },
   "outputs": [
    {
     "data": {
      "text/plain": [
       "5.047222375869751"
      ]
     },
     "execution_count": 12,
     "metadata": {},
     "output_type": "execute_result"
    }
   ],
   "source": [
    "ts = time.time()\n",
    "group = train.groupby(['date_block_num','shop_id','item_id']).agg({'item_cnt_day': ['sum']})\n",
    "group.columns = ['item_cnt_month']\n",
    "group.reset_index(inplace=True)\n",
    "\n",
    "matrix = pd.merge(matrix, group, on=cols, how='left')\n",
    "matrix['item_cnt_month'] = (matrix['item_cnt_month']\n",
    "                                .fillna(0)\n",
    "                                .clip(0,20) # NB clip target here\n",
    "                                .astype(np.float16))\n",
    "time.time() - ts"
   ]
  },
  {
   "cell_type": "markdown",
   "metadata": {
    "colab_type": "text",
    "id": "qmpnPswuxi1o"
   },
   "source": [
    "Test set\n",
    "To use time tricks append test pairs to the matrix.\n"
   ]
  },
  {
   "cell_type": "code",
   "execution_count": 13,
   "metadata": {
    "colab": {},
    "colab_type": "code",
    "id": "AYTDncj9xjWo"
   },
   "outputs": [],
   "source": [
    "test['date_block_num'] = 34\n",
    "test['date_block_num'] = test['date_block_num'].astype(np.int8)\n",
    "test['shop_id'] = test['shop_id'].astype(np.int8)\n",
    "test['item_id'] = test['item_id'].astype(np.int16)"
   ]
  },
  {
   "cell_type": "code",
   "execution_count": 14,
   "metadata": {
    "colab": {
     "base_uri": "https://localhost:8080/",
     "height": 35
    },
    "colab_type": "code",
    "id": "g_4Qt99mxl1S",
    "outputId": "0fb5a33d-6ae5-403f-86ee-ea31dd60db29"
   },
   "outputs": [
    {
     "data": {
      "text/plain": [
       "0.07023000717163086"
      ]
     },
     "execution_count": 14,
     "metadata": {},
     "output_type": "execute_result"
    }
   ],
   "source": [
    "ts = time.time()\n",
    "matrix = pd.concat([matrix, test], ignore_index=True, sort=False, keys=cols)\n",
    "matrix.fillna(0, inplace=True) # 34 month\n",
    "time.time() - ts"
   ]
  },
  {
   "cell_type": "markdown",
   "metadata": {
    "colab_type": "text",
    "id": "4p7R-IDRxs3u"
   },
   "source": [
    "Shops/Items/Cats features\n"
   ]
  },
  {
   "cell_type": "code",
   "execution_count": 15,
   "metadata": {
    "colab": {
     "base_uri": "https://localhost:8080/",
     "height": 35
    },
    "colab_type": "code",
    "id": "43C0nyTDxtJ7",
    "outputId": "e013fea3-913c-4104-8ae5-683c1f24b439"
   },
   "outputs": [
    {
     "data": {
      "text/plain": [
       "5.770457983016968"
      ]
     },
     "execution_count": 15,
     "metadata": {},
     "output_type": "execute_result"
    }
   ],
   "source": [
    "ts = time.time()\n",
    "matrix = pd.merge(matrix, shops, on=['shop_id'], how='left')\n",
    "matrix = pd.merge(matrix, items, on=['item_id'], how='left')\n",
    "matrix = pd.merge(matrix, cats, on=['item_category_id'], how='left')\n",
    "matrix['city_code'] = matrix['city_code'].astype(np.int8)\n",
    "matrix['item_category_id'] = matrix['item_category_id'].astype(np.int8)\n",
    "matrix['type_code'] = matrix['type_code'].astype(np.int8)\n",
    "matrix['subtype_code'] = matrix['subtype_code'].astype(np.int8)\n",
    "time.time() - ts"
   ]
  },
  {
   "cell_type": "markdown",
   "metadata": {
    "colab_type": "text",
    "id": "mub5n6a6xxx0"
   },
   "source": [
    "Traget lags\n"
   ]
  },
  {
   "cell_type": "code",
   "execution_count": 16,
   "metadata": {
    "colab": {},
    "colab_type": "code",
    "id": "GOb_XbgGxumW"
   },
   "outputs": [],
   "source": [
    "def lag_feature(df, lags, col):\n",
    "    tmp = df[['date_block_num','shop_id','item_id',col]]\n",
    "    for i in lags:\n",
    "        shifted = tmp.copy()\n",
    "        shifted.columns = ['date_block_num','shop_id','item_id', col+'_lag_'+str(i)]\n",
    "        shifted['date_block_num'] += i\n",
    "        df = pd.merge(df, shifted, on=['date_block_num','shop_id','item_id'], how='left')\n",
    "    return df\n"
   ]
  },
  {
   "cell_type": "code",
   "execution_count": 17,
   "metadata": {
    "colab": {
     "base_uri": "https://localhost:8080/",
     "height": 35
    },
    "colab_type": "code",
    "id": "XmrwcJrpxyrK",
    "outputId": "73904934-87ff-4fd3-8565-760e305534b4"
   },
   "outputs": [
    {
     "data": {
      "text/plain": [
       "34.728355407714844"
      ]
     },
     "execution_count": 17,
     "metadata": {},
     "output_type": "execute_result"
    }
   ],
   "source": [
    "ts = time.time()\n",
    "matrix = lag_feature(matrix, [1,2,3,6,12], 'item_cnt_month')\n",
    "time.time() - ts"
   ]
  },
  {
   "cell_type": "markdown",
   "metadata": {
    "colab_type": "text",
    "id": "EUlXKXVox1_D"
   },
   "source": [
    "Mean encoded features¶\n"
   ]
  },
  {
   "cell_type": "code",
   "execution_count": 18,
   "metadata": {
    "colab": {
     "base_uri": "https://localhost:8080/",
     "height": 35
    },
    "colab_type": "code",
    "id": "XkR8Zi98x2b-",
    "outputId": "21bb49ba-6872-4697-ea37-3798cf6522d9"
   },
   "outputs": [
    {
     "data": {
      "text/plain": [
       "12.150461912155151"
      ]
     },
     "execution_count": 18,
     "metadata": {},
     "output_type": "execute_result"
    }
   ],
   "source": [
    "ts = time.time()\n",
    "group = matrix.groupby(['date_block_num']).agg({'item_cnt_month': ['mean']})\n",
    "group.columns = [ 'date_avg_item_cnt' ]\n",
    "group.reset_index(inplace=True)\n",
    "\n",
    "matrix = pd.merge(matrix, group, on=['date_block_num'], how='left')\n",
    "matrix['date_avg_item_cnt'] = matrix['date_avg_item_cnt'].astype(np.float16)\n",
    "matrix = lag_feature(matrix, [1], 'date_avg_item_cnt')\n",
    "matrix.drop(['date_avg_item_cnt'], axis=1, inplace=True)\n",
    "time.time() - ts"
   ]
  },
  {
   "cell_type": "markdown",
   "metadata": {
    "colab_type": "text",
    "id": "RXNtNd4ex4MX"
   },
   "source": []
  },
  {
   "cell_type": "code",
   "execution_count": 19,
   "metadata": {
    "colab": {
     "base_uri": "https://localhost:8080/",
     "height": 35
    },
    "colab_type": "code",
    "id": "Qop6EAM4x5Ng",
    "outputId": "be10a3d0-6265-463d-f298-2a2090b12ab7"
   },
   "outputs": [
    {
     "data": {
      "text/plain": [
       "43.718231201171875"
      ]
     },
     "execution_count": 19,
     "metadata": {},
     "output_type": "execute_result"
    }
   ],
   "source": [
    "ts = time.time()\n",
    "group = matrix.groupby(['date_block_num', 'item_id']).agg({'item_cnt_month': ['mean']})\n",
    "group.columns = [ 'date_item_avg_item_cnt' ]\n",
    "group.reset_index(inplace=True)\n",
    "\n",
    "matrix = pd.merge(matrix, group, on=['date_block_num','item_id'], how='left')\n",
    "matrix['date_item_avg_item_cnt'] = matrix['date_item_avg_item_cnt'].astype(np.float16)\n",
    "matrix = lag_feature(matrix, [1,2,3,6,12], 'date_item_avg_item_cnt')\n",
    "matrix.drop(['date_item_avg_item_cnt'], axis=1, inplace=True)\n",
    "time.time() - ts"
   ]
  },
  {
   "cell_type": "code",
   "execution_count": 20,
   "metadata": {
    "colab": {
     "base_uri": "https://localhost:8080/",
     "height": 35
    },
    "colab_type": "code",
    "id": "4-yv7lX8x-Ld",
    "outputId": "46a9b342-6df9-4919-9953-384f3ddca577"
   },
   "outputs": [
    {
     "data": {
      "text/plain": [
       "45.98875021934509"
      ]
     },
     "execution_count": 20,
     "metadata": {},
     "output_type": "execute_result"
    }
   ],
   "source": [
    "ts = time.time()\n",
    "group = matrix.groupby(['date_block_num', 'shop_id']).agg({'item_cnt_month': ['mean']})\n",
    "group.columns = [ 'date_shop_avg_item_cnt' ]\n",
    "group.reset_index(inplace=True)\n",
    "\n",
    "matrix = pd.merge(matrix, group, on=['date_block_num','shop_id'], how='left')\n",
    "matrix['date_shop_avg_item_cnt'] = matrix['date_shop_avg_item_cnt'].astype(np.float16)\n",
    "matrix = lag_feature(matrix, [1,2,3,6,12], 'date_shop_avg_item_cnt')\n",
    "matrix.drop(['date_shop_avg_item_cnt'], axis=1, inplace=True)\n",
    "time.time() - ts"
   ]
  },
  {
   "cell_type": "code",
   "execution_count": 21,
   "metadata": {
    "colab": {
     "base_uri": "https://localhost:8080/",
     "height": 35
    },
    "colab_type": "code",
    "id": "zDsJyla1yAUR",
    "outputId": "794df567-e54f-45cd-fbbf-855ded6be723"
   },
   "outputs": [
    {
     "data": {
      "text/plain": [
       "17.250325441360474"
      ]
     },
     "execution_count": 21,
     "metadata": {},
     "output_type": "execute_result"
    }
   ],
   "source": [
    "ts = time.time()\n",
    "group = matrix.groupby(['date_block_num', 'item_category_id']).agg({'item_cnt_month': ['mean']})\n",
    "group.columns = [ 'date_cat_avg_item_cnt' ]\n",
    "group.reset_index(inplace=True)\n",
    "\n",
    "matrix = pd.merge(matrix, group, on=['date_block_num','item_category_id'], how='left')\n",
    "matrix['date_cat_avg_item_cnt'] = matrix['date_cat_avg_item_cnt'].astype(np.float16)\n",
    "matrix = lag_feature(matrix, [1], 'date_cat_avg_item_cnt')\n",
    "matrix.drop(['date_cat_avg_item_cnt'], axis=1, inplace=True)\n",
    "time.time() - ts"
   ]
  },
  {
   "cell_type": "code",
   "execution_count": 22,
   "metadata": {
    "colab": {
     "base_uri": "https://localhost:8080/",
     "height": 35
    },
    "colab_type": "code",
    "id": "utvIgqznyCmc",
    "outputId": "743f39c9-396d-4f23-d7e1-d629ab9a7b9c"
   },
   "outputs": [
    {
     "data": {
      "text/plain": [
       "18.7647442817688"
      ]
     },
     "execution_count": 22,
     "metadata": {},
     "output_type": "execute_result"
    }
   ],
   "source": [
    "ts = time.time()\n",
    "group = matrix.groupby(['date_block_num', 'shop_id', 'item_category_id']).agg({'item_cnt_month': ['mean']})\n",
    "group.columns = ['date_shop_cat_avg_item_cnt']\n",
    "group.reset_index(inplace=True)\n",
    "\n",
    "matrix = pd.merge(matrix, group, on=['date_block_num', 'shop_id', 'item_category_id'], how='left')\n",
    "matrix['date_shop_cat_avg_item_cnt'] = matrix['date_shop_cat_avg_item_cnt'].astype(np.float16)\n",
    "matrix = lag_feature(matrix, [1], 'date_shop_cat_avg_item_cnt')\n",
    "matrix.drop(['date_shop_cat_avg_item_cnt'], axis=1, inplace=True)\n",
    "time.time() - ts"
   ]
  },
  {
   "cell_type": "code",
   "execution_count": 23,
   "metadata": {
    "colab": {
     "base_uri": "https://localhost:8080/",
     "height": 35
    },
    "colab_type": "code",
    "id": "WPyZKmcMyEMD",
    "outputId": "cf7b377e-974e-4a84-9e0a-963faf3fb61f"
   },
   "outputs": [
    {
     "data": {
      "text/plain": [
       "18.73372745513916"
      ]
     },
     "execution_count": 23,
     "metadata": {},
     "output_type": "execute_result"
    }
   ],
   "source": [
    "ts = time.time()\n",
    "group = matrix.groupby(['date_block_num', 'shop_id', 'type_code']).agg({'item_cnt_month': ['mean']})\n",
    "group.columns = ['date_shop_type_avg_item_cnt']\n",
    "group.reset_index(inplace=True)\n",
    "\n",
    "matrix = pd.merge(matrix, group, on=['date_block_num', 'shop_id', 'type_code'], how='left')\n",
    "matrix['date_shop_type_avg_item_cnt'] = matrix['date_shop_type_avg_item_cnt'].astype(np.float16)\n",
    "matrix = lag_feature(matrix, [1], 'date_shop_type_avg_item_cnt')\n",
    "matrix.drop(['date_shop_type_avg_item_cnt'], axis=1, inplace=True)\n",
    "time.time() - ts"
   ]
  },
  {
   "cell_type": "code",
   "execution_count": 24,
   "metadata": {
    "colab": {
     "base_uri": "https://localhost:8080/",
     "height": 35
    },
    "colab_type": "code",
    "id": "3n5nuq5ayGm_",
    "outputId": "1050215f-d211-466d-e25a-28ebfe01c670"
   },
   "outputs": [
    {
     "data": {
      "text/plain": [
       "19.723427057266235"
      ]
     },
     "execution_count": 24,
     "metadata": {},
     "output_type": "execute_result"
    }
   ],
   "source": [
    "ts = time.time()\n",
    "group = matrix.groupby(['date_block_num', 'shop_id', 'subtype_code']).agg({'item_cnt_month': ['mean']})\n",
    "group.columns = ['date_shop_subtype_avg_item_cnt']\n",
    "group.reset_index(inplace=True)\n",
    "\n",
    "matrix = pd.merge(matrix, group, on=['date_block_num', 'shop_id', 'subtype_code'], how='left')\n",
    "matrix['date_shop_subtype_avg_item_cnt'] = matrix['date_shop_subtype_avg_item_cnt'].astype(np.float16)\n",
    "matrix = lag_feature(matrix, [1], 'date_shop_subtype_avg_item_cnt')\n",
    "matrix.drop(['date_shop_subtype_avg_item_cnt'], axis=1, inplace=True)\n",
    "time.time() - ts"
   ]
  },
  {
   "cell_type": "code",
   "execution_count": 25,
   "metadata": {
    "colab": {
     "base_uri": "https://localhost:8080/",
     "height": 35
    },
    "colab_type": "code",
    "id": "c4KajKdJyIWs",
    "outputId": "79bfaa71-09a3-4edb-883b-23f339eaf99c"
   },
   "outputs": [
    {
     "data": {
      "text/plain": [
       "19.399631023406982"
      ]
     },
     "execution_count": 25,
     "metadata": {},
     "output_type": "execute_result"
    }
   ],
   "source": [
    "ts = time.time()\n",
    "group = matrix.groupby(['date_block_num', 'city_code']).agg({'item_cnt_month': ['mean']})\n",
    "group.columns = [ 'date_city_avg_item_cnt' ]\n",
    "group.reset_index(inplace=True)\n",
    "\n",
    "matrix = pd.merge(matrix, group, on=['date_block_num', 'city_code'], how='left')\n",
    "matrix['date_city_avg_item_cnt'] = matrix['date_city_avg_item_cnt'].astype(np.float16)\n",
    "matrix = lag_feature(matrix, [1], 'date_city_avg_item_cnt')\n",
    "matrix.drop(['date_city_avg_item_cnt'], axis=1, inplace=True)\n",
    "time.time() - ts"
   ]
  },
  {
   "cell_type": "code",
   "execution_count": 26,
   "metadata": {
    "colab": {
     "base_uri": "https://localhost:8080/",
     "height": 35
    },
    "colab_type": "code",
    "id": "nqoBiU4byImi",
    "outputId": "e7324139-c3a1-4f1c-96d3-494c8477e558"
   },
   "outputs": [
    {
     "data": {
      "text/plain": [
       "26.54774522781372"
      ]
     },
     "execution_count": 26,
     "metadata": {},
     "output_type": "execute_result"
    }
   ],
   "source": [
    "ts = time.time()\n",
    "group = matrix.groupby(['date_block_num', 'item_id', 'city_code']).agg({'item_cnt_month': ['mean']})\n",
    "group.columns = [ 'date_item_city_avg_item_cnt' ]\n",
    "group.reset_index(inplace=True)\n",
    "\n",
    "matrix = pd.merge(matrix, group, on=['date_block_num', 'item_id', 'city_code'], how='left')\n",
    "matrix['date_item_city_avg_item_cnt'] = matrix['date_item_city_avg_item_cnt'].astype(np.float16)\n",
    "matrix = lag_feature(matrix, [1], 'date_item_city_avg_item_cnt')\n",
    "matrix.drop(['date_item_city_avg_item_cnt'], axis=1, inplace=True)\n",
    "time.time() - ts"
   ]
  },
  {
   "cell_type": "code",
   "execution_count": 27,
   "metadata": {
    "colab": {
     "base_uri": "https://localhost:8080/",
     "height": 35
    },
    "colab_type": "code",
    "id": "fslHY-vMyLQ1",
    "outputId": "3ebc3571-14bb-4856-ab49-175e4386cbf2"
   },
   "outputs": [
    {
     "data": {
      "text/plain": [
       "20.005748748779297"
      ]
     },
     "execution_count": 27,
     "metadata": {},
     "output_type": "execute_result"
    }
   ],
   "source": [
    "ts = time.time()\n",
    "group = matrix.groupby(['date_block_num', 'type_code']).agg({'item_cnt_month': ['mean']})\n",
    "group.columns = [ 'date_type_avg_item_cnt' ]\n",
    "group.reset_index(inplace=True)\n",
    "\n",
    "matrix = pd.merge(matrix, group, on=['date_block_num', 'type_code'], how='left')\n",
    "matrix['date_type_avg_item_cnt'] = matrix['date_type_avg_item_cnt'].astype(np.float16)\n",
    "matrix = lag_feature(matrix, [1], 'date_type_avg_item_cnt')\n",
    "matrix.drop(['date_type_avg_item_cnt'], axis=1, inplace=True)\n",
    "time.time() - ts"
   ]
  },
  {
   "cell_type": "code",
   "execution_count": 28,
   "metadata": {
    "colab": {
     "base_uri": "https://localhost:8080/",
     "height": 35
    },
    "colab_type": "code",
    "id": "OLfspoUoyNqy",
    "outputId": "6d4fccd8-27db-4eb0-c034-d92dc95473cb"
   },
   "outputs": [
    {
     "data": {
      "text/plain": [
       "20.65340495109558"
      ]
     },
     "execution_count": 28,
     "metadata": {},
     "output_type": "execute_result"
    }
   ],
   "source": [
    "ts = time.time()\n",
    "group = matrix.groupby(['date_block_num', 'subtype_code']).agg({'item_cnt_month': ['mean']})\n",
    "group.columns = [ 'date_subtype_avg_item_cnt' ]\n",
    "group.reset_index(inplace=True)\n",
    "\n",
    "matrix = pd.merge(matrix, group, on=['date_block_num', 'subtype_code'], how='left')\n",
    "matrix['date_subtype_avg_item_cnt'] = matrix['date_subtype_avg_item_cnt'].astype(np.float16)\n",
    "matrix = lag_feature(matrix, [1], 'date_subtype_avg_item_cnt')\n",
    "matrix.drop(['date_subtype_avg_item_cnt'], axis=1, inplace=True)\n",
    "time.time() - ts"
   ]
  },
  {
   "cell_type": "markdown",
   "metadata": {
    "colab_type": "text",
    "id": "MGel9zT3yT2o"
   },
   "source": [
    "Trend features\n",
    "Price trend for the last six months.\n",
    "\n"
   ]
  },
  {
   "cell_type": "code",
   "execution_count": 29,
   "metadata": {
    "colab": {
     "base_uri": "https://localhost:8080/",
     "height": 35
    },
    "colab_type": "code",
    "id": "b36zPuYKyQMR",
    "outputId": "3666ca65-861c-404e-a7d8-e0ae342e0f24"
   },
   "outputs": [
    {
     "data": {
      "text/plain": [
       "318.1983308792114"
      ]
     },
     "execution_count": 29,
     "metadata": {},
     "output_type": "execute_result"
    }
   ],
   "source": [
    "ts = time.time()\n",
    "group = train.groupby(['item_id']).agg({'item_price': ['mean']})\n",
    "group.columns = ['item_avg_item_price']\n",
    "group.reset_index(inplace=True)\n",
    "\n",
    "matrix = pd.merge(matrix, group, on=['item_id'], how='left')\n",
    "matrix['item_avg_item_price'] = matrix['item_avg_item_price'].astype(np.float16)\n",
    "\n",
    "group = train.groupby(['date_block_num','item_id']).agg({'item_price': ['mean']})\n",
    "group.columns = ['date_item_avg_item_price']\n",
    "group.reset_index(inplace=True)\n",
    "\n",
    "matrix = pd.merge(matrix, group, on=['date_block_num','item_id'], how='left')\n",
    "matrix['date_item_avg_item_price'] = matrix['date_item_avg_item_price'].astype(np.float16)\n",
    "\n",
    "lags = [1,2,3,4,5,6]\n",
    "matrix = lag_feature(matrix, lags, 'date_item_avg_item_price')\n",
    "\n",
    "for i in lags:\n",
    "    matrix['delta_price_lag_'+str(i)] = \\\n",
    "        (matrix['date_item_avg_item_price_lag_'+str(i)] - matrix['item_avg_item_price']) / matrix['item_avg_item_price']\n",
    "\n",
    "def select_trend(row):\n",
    "    for i in lags:\n",
    "        if row['delta_price_lag_'+str(i)]:\n",
    "            return row['delta_price_lag_'+str(i)]\n",
    "    return 0\n",
    "    \n",
    "matrix['delta_price_lag'] = matrix.apply(select_trend, axis=1)\n",
    "matrix['delta_price_lag'] = matrix['delta_price_lag'].astype(np.float16)\n",
    "matrix['delta_price_lag'].fillna(0, inplace=True)\n",
    "\n",
    "# https://stackoverflow.com/questions/31828240/first-non-null-value-per-row-from-a-list-of-pandas-columns/31828559\n",
    "# matrix['price_trend'] = matrix[['delta_price_lag_1','delta_price_lag_2','delta_price_lag_3']].bfill(axis=1).iloc[:, 0]\n",
    "# Invalid dtype for backfill_2d [float16]\n",
    "\n",
    "fetures_to_drop = ['item_avg_item_price', 'date_item_avg_item_price']\n",
    "for i in lags:\n",
    "    fetures_to_drop += ['date_item_avg_item_price_lag_'+str(i)]\n",
    "    fetures_to_drop += ['delta_price_lag_'+str(i)]\n",
    "\n",
    "matrix.drop(fetures_to_drop, axis=1, inplace=True)\n",
    "\n",
    "time.time() - ts"
   ]
  },
  {
   "cell_type": "markdown",
   "metadata": {
    "colab_type": "text",
    "id": "UjBQnY9XycsE"
   },
   "source": [
    "Last month shop revenue trend\n",
    "\n"
   ]
  },
  {
   "cell_type": "code",
   "execution_count": 30,
   "metadata": {
    "colab": {
     "base_uri": "https://localhost:8080/",
     "height": 35
    },
    "colab_type": "code",
    "id": "pT2NMGvFydD9",
    "outputId": "7cb94f32-2043-4a09-ce03-ece508924b3e"
   },
   "outputs": [
    {
     "data": {
      "text/plain": [
       "24.544360160827637"
      ]
     },
     "execution_count": 30,
     "metadata": {},
     "output_type": "execute_result"
    }
   ],
   "source": [
    "ts = time.time()\n",
    "group = train.groupby(['date_block_num','shop_id']).agg({'revenue': ['sum']})\n",
    "group.columns = ['date_shop_revenue']\n",
    "group.reset_index(inplace=True)\n",
    "\n",
    "matrix = pd.merge(matrix, group, on=['date_block_num','shop_id'], how='left')\n",
    "matrix['date_shop_revenue'] = matrix['date_shop_revenue'].astype(np.float32)\n",
    "\n",
    "group = group.groupby(['shop_id']).agg({'date_shop_revenue': ['mean']})\n",
    "group.columns = ['shop_avg_revenue']\n",
    "group.reset_index(inplace=True)\n",
    "\n",
    "matrix = pd.merge(matrix, group, on=['shop_id'], how='left')\n",
    "matrix['shop_avg_revenue'] = matrix['shop_avg_revenue'].astype(np.float32)\n",
    "\n",
    "matrix['delta_revenue'] = (matrix['date_shop_revenue'] - matrix['shop_avg_revenue']) / matrix['shop_avg_revenue']\n",
    "matrix['delta_revenue'] = matrix['delta_revenue'].astype(np.float16)\n",
    "\n",
    "matrix = lag_feature(matrix, [1], 'delta_revenue')\n",
    "\n",
    "matrix.drop(['date_shop_revenue','shop_avg_revenue','delta_revenue'], axis=1, inplace=True)\n",
    "time.time() - ts"
   ]
  },
  {
   "cell_type": "markdown",
   "metadata": {
    "colab_type": "text",
    "id": "fonrGq5gygA8"
   },
   "source": [
    "Special features\n"
   ]
  },
  {
   "cell_type": "code",
   "execution_count": 31,
   "metadata": {
    "colab": {},
    "colab_type": "code",
    "id": "BYzbGKzqyhe1"
   },
   "outputs": [],
   "source": [
    "matrix['month'] = matrix['date_block_num'] % 12\n"
   ]
  },
  {
   "cell_type": "markdown",
   "metadata": {
    "colab_type": "text",
    "id": "-WqPrhVSyi2x"
   },
   "source": [
    "Number of days in a month. There are no leap years.\n",
    "\n"
   ]
  },
  {
   "cell_type": "code",
   "execution_count": 32,
   "metadata": {
    "colab": {},
    "colab_type": "code",
    "id": "zzpbgHacykAD"
   },
   "outputs": [],
   "source": [
    "days = pd.Series([31,28,31,30,31,30,31,31,30,31,30,31])\n",
    "matrix['days'] = matrix['month'].map(days).astype(np.int8)\n"
   ]
  },
  {
   "cell_type": "markdown",
   "metadata": {
    "colab_type": "text",
    "id": "nKTVLTsAylYN"
   },
   "source": [
    "Months since the last sale for each shop/item pair and for item only. I use programing approach.\n",
    "\n",
    "Create HashTable with key equals to {shop_id,item_id} and value equals to date_block_num. Iterate data from the top. Foreach row if {row.shop_id,row.item_id} is not present in the table, then add it to the table and set its value to row.date_block_num. if HashTable contains key, then calculate the difference beteween cached value and row.date_block_num."
   ]
  },
  {
   "cell_type": "code",
   "execution_count": 33,
   "metadata": {
    "colab": {
     "base_uri": "https://localhost:8080/",
     "height": 35
    },
    "colab_type": "code",
    "id": "eHYNxqFVyndn",
    "outputId": "072502fe-e400-4d9a-95bb-639bf130a236"
   },
   "outputs": [
    {
     "data": {
      "text/plain": [
       "1005.1949245929718"
      ]
     },
     "execution_count": 33,
     "metadata": {},
     "output_type": "execute_result"
    }
   ],
   "source": [
    "ts = time.time()\n",
    "cache = {}\n",
    "matrix['item_shop_last_sale'] = -1\n",
    "matrix['item_shop_last_sale'] = matrix['item_shop_last_sale'].astype(np.int8)\n",
    "for idx, row in matrix.iterrows():    \n",
    "    key = str(row.item_id)+' '+str(row.shop_id)\n",
    "    if key not in cache:\n",
    "        if row.item_cnt_month!=0:\n",
    "            cache[key] = row.date_block_num\n",
    "    else:\n",
    "        last_date_block_num = cache[key]\n",
    "        matrix.at[idx, 'item_shop_last_sale'] = row.date_block_num - last_date_block_num\n",
    "        cache[key] = row.date_block_num         \n",
    "time.time() - ts"
   ]
  },
  {
   "cell_type": "code",
   "execution_count": 34,
   "metadata": {
    "colab": {
     "base_uri": "https://localhost:8080/",
     "height": 35
    },
    "colab_type": "code",
    "id": "2bOLBCA1ys9E",
    "outputId": "7bf20299-7777-406d-9988-0306fa9c2911"
   },
   "outputs": [
    {
     "data": {
      "text/plain": [
       "608.4364786148071"
      ]
     },
     "execution_count": 34,
     "metadata": {},
     "output_type": "execute_result"
    }
   ],
   "source": [
    "ts = time.time()\n",
    "cache = {}\n",
    "matrix['item_last_sale'] = -1\n",
    "matrix['item_last_sale'] = matrix['item_last_sale'].astype(np.int8)\n",
    "for idx, row in matrix.iterrows():    \n",
    "    key = row.item_id\n",
    "    if key not in cache:\n",
    "        if row.item_cnt_month!=0:\n",
    "            cache[key] = row.date_block_num\n",
    "    else:\n",
    "        last_date_block_num = cache[key]\n",
    "        if row.date_block_num>last_date_block_num:\n",
    "            matrix.at[idx, 'item_last_sale'] = row.date_block_num - last_date_block_num\n",
    "            cache[key] = row.date_block_num         \n",
    "time.time() - ts"
   ]
  },
  {
   "cell_type": "markdown",
   "metadata": {
    "colab_type": "text",
    "id": "gkUcv-6gyucW"
   },
   "source": [
    "Months since the first sale for each shop/item pair and for item only.\n",
    "\n"
   ]
  },
  {
   "cell_type": "code",
   "execution_count": 35,
   "metadata": {
    "colab": {
     "base_uri": "https://localhost:8080/",
     "height": 35
    },
    "colab_type": "code",
    "id": "5RN4VZwHyuy4",
    "outputId": "3cc33e7f-ccc2-4673-e3bf-8a098dcdccba"
   },
   "outputs": [
    {
     "data": {
      "text/plain": [
       "2.1922926902770996"
      ]
     },
     "execution_count": 35,
     "metadata": {},
     "output_type": "execute_result"
    }
   ],
   "source": [
    "ts = time.time()\n",
    "matrix['item_shop_first_sale'] = matrix['date_block_num'] - matrix.groupby(['item_id','shop_id'])['date_block_num'].transform('min')\n",
    "matrix['item_first_sale'] = matrix['date_block_num'] - matrix.groupby('item_id')['date_block_num'].transform('min')\n",
    "time.time() - ts"
   ]
  },
  {
   "cell_type": "markdown",
   "metadata": {
    "colab_type": "text",
    "id": "cLN38jAUyxpJ"
   },
   "source": [
    "Final preparations\n",
    "Because of the using 12 as lag value drop first 12 months. Also drop all the columns with this month calculated values (other words which can not be calcucated for the test set).\n",
    "\n"
   ]
  },
  {
   "cell_type": "code",
   "execution_count": 36,
   "metadata": {
    "colab": {
     "base_uri": "https://localhost:8080/",
     "height": 35
    },
    "colab_type": "code",
    "id": "qSVo7F4oyx8i",
    "outputId": "344c0264-bade-4461-d272-f18ff4a648f1"
   },
   "outputs": [
    {
     "data": {
      "text/plain": [
       "1.236196756362915"
      ]
     },
     "execution_count": 36,
     "metadata": {},
     "output_type": "execute_result"
    }
   ],
   "source": [
    "ts = time.time()\n",
    "matrix = matrix[matrix.date_block_num > 11]\n",
    "time.time() - ts"
   ]
  },
  {
   "cell_type": "markdown",
   "metadata": {
    "colab_type": "text",
    "id": "4BKGBc3nyzif"
   },
   "source": [
    "Producing lags brings a lot of nulls.\n",
    "\n"
   ]
  },
  {
   "cell_type": "code",
   "execution_count": 37,
   "metadata": {
    "colab": {
     "base_uri": "https://localhost:8080/",
     "height": 35
    },
    "colab_type": "code",
    "id": "UlITQzZdy00_",
    "outputId": "d1b19aa1-74e6-454a-ef6e-5e17bd85068a"
   },
   "outputs": [
    {
     "data": {
      "text/plain": [
       "5.910837650299072"
      ]
     },
     "execution_count": 37,
     "metadata": {},
     "output_type": "execute_result"
    }
   ],
   "source": [
    "ts = time.time()\n",
    "def fill_na(df):\n",
    "    for col in df.columns:\n",
    "        if ('_lag_' in col) & (df[col].isnull().any()):\n",
    "            if ('item_cnt' in col):\n",
    "                df[col].fillna(0, inplace=True)         \n",
    "    return df\n",
    "\n",
    "matrix = fill_na(matrix)\n",
    "time.time() - ts\n"
   ]
  },
  {
   "cell_type": "code",
   "execution_count": 38,
   "metadata": {
    "colab": {
     "base_uri": "https://localhost:8080/",
     "height": 329
    },
    "colab_type": "code",
    "id": "_TqaL29Ky5hZ",
    "outputId": "42cf0433-bfe8-4ad9-8e5b-ea5162db726a"
   },
   "outputs": [
    {
     "data": {
      "text/plain": [
       "Index(['date_block_num', 'shop_id', 'item_id', 'item_cnt_month', 'city_code',\n",
       "       'item_category_id', 'type_code', 'subtype_code', 'item_cnt_month_lag_1',\n",
       "       'item_cnt_month_lag_2', 'item_cnt_month_lag_3', 'item_cnt_month_lag_6',\n",
       "       'item_cnt_month_lag_12', 'date_avg_item_cnt_lag_1',\n",
       "       'date_item_avg_item_cnt_lag_1', 'date_item_avg_item_cnt_lag_2',\n",
       "       'date_item_avg_item_cnt_lag_3', 'date_item_avg_item_cnt_lag_6',\n",
       "       'date_item_avg_item_cnt_lag_12', 'date_shop_avg_item_cnt_lag_1',\n",
       "       'date_shop_avg_item_cnt_lag_2', 'date_shop_avg_item_cnt_lag_3',\n",
       "       'date_shop_avg_item_cnt_lag_6', 'date_shop_avg_item_cnt_lag_12',\n",
       "       'date_cat_avg_item_cnt_lag_1', 'date_shop_cat_avg_item_cnt_lag_1',\n",
       "       'date_shop_type_avg_item_cnt_lag_1',\n",
       "       'date_shop_subtype_avg_item_cnt_lag_1', 'date_city_avg_item_cnt_lag_1',\n",
       "       'date_item_city_avg_item_cnt_lag_1', 'date_type_avg_item_cnt_lag_1',\n",
       "       'date_subtype_avg_item_cnt_lag_1', 'delta_price_lag',\n",
       "       'delta_revenue_lag_1', 'month', 'days', 'item_shop_last_sale',\n",
       "       'item_last_sale', 'item_shop_first_sale', 'item_first_sale'],\n",
       "      dtype='object')"
      ]
     },
     "execution_count": 38,
     "metadata": {},
     "output_type": "execute_result"
    }
   ],
   "source": [
    "matrix.columns\n"
   ]
  },
  {
   "cell_type": "code",
   "execution_count": 39,
   "metadata": {
    "colab": {
     "base_uri": "https://localhost:8080/",
     "height": 844
    },
    "colab_type": "code",
    "id": "u3FiN-jYy6AM",
    "outputId": "8f2168f3-7db9-4fbf-c4b1-6de7b5f9e70f"
   },
   "outputs": [
    {
     "name": "stdout",
     "output_type": "stream",
     "text": [
      "<class 'pandas.core.frame.DataFrame'>\n",
      "Int64Index: 6639294 entries, 4488710 to 11128003\n",
      "Data columns (total 40 columns):\n",
      "date_block_num                          int8\n",
      "shop_id                                 int8\n",
      "item_id                                 int16\n",
      "item_cnt_month                          float16\n",
      "city_code                               int8\n",
      "item_category_id                        int8\n",
      "type_code                               int8\n",
      "subtype_code                            int8\n",
      "item_cnt_month_lag_1                    float16\n",
      "item_cnt_month_lag_2                    float16\n",
      "item_cnt_month_lag_3                    float16\n",
      "item_cnt_month_lag_6                    float16\n",
      "item_cnt_month_lag_12                   float16\n",
      "date_avg_item_cnt_lag_1                 float16\n",
      "date_item_avg_item_cnt_lag_1            float16\n",
      "date_item_avg_item_cnt_lag_2            float16\n",
      "date_item_avg_item_cnt_lag_3            float16\n",
      "date_item_avg_item_cnt_lag_6            float16\n",
      "date_item_avg_item_cnt_lag_12           float16\n",
      "date_shop_avg_item_cnt_lag_1            float16\n",
      "date_shop_avg_item_cnt_lag_2            float16\n",
      "date_shop_avg_item_cnt_lag_3            float16\n",
      "date_shop_avg_item_cnt_lag_6            float16\n",
      "date_shop_avg_item_cnt_lag_12           float16\n",
      "date_cat_avg_item_cnt_lag_1             float16\n",
      "date_shop_cat_avg_item_cnt_lag_1        float16\n",
      "date_shop_type_avg_item_cnt_lag_1       float16\n",
      "date_shop_subtype_avg_item_cnt_lag_1    float16\n",
      "date_city_avg_item_cnt_lag_1            float16\n",
      "date_item_city_avg_item_cnt_lag_1       float16\n",
      "date_type_avg_item_cnt_lag_1            float16\n",
      "date_subtype_avg_item_cnt_lag_1         float16\n",
      "delta_price_lag                         float16\n",
      "delta_revenue_lag_1                     float16\n",
      "month                                   int8\n",
      "days                                    int8\n",
      "item_shop_last_sale                     int8\n",
      "item_last_sale                          int8\n",
      "item_shop_first_sale                    int8\n",
      "item_first_sale                         int8\n",
      "dtypes: float16(27), int16(1), int8(12)\n",
      "memory usage: 481.2 MB\n"
     ]
    }
   ],
   "source": [
    "matrix.info()\n"
   ]
  },
  {
   "cell_type": "code",
   "execution_count": 40,
   "metadata": {
    "colab": {},
    "colab_type": "code",
    "id": "RTUXRdg2y8v7"
   },
   "outputs": [],
   "source": [
    "matrix.to_pickle('../data_new.pkl')\n",
    "del matrix\n",
    "del cache\n",
    "del group\n",
    "del items\n",
    "del shops\n",
    "del cats\n",
    "del train\n",
    "# leave test for submission\n",
    "gc.collect();"
   ]
  },
  {
   "cell_type": "code",
   "execution_count": 41,
   "metadata": {
    "colab": {},
    "colab_type": "code",
    "id": "hpE8cmJOyJ-M"
   },
   "outputs": [],
   "source": [
    "data = pd.read_pickle('../data_new.pkl')"
   ]
  },
  {
   "cell_type": "code",
   "execution_count": 42,
   "metadata": {
    "colab": {},
    "colab_type": "code",
    "id": "xHMxJRYgVSsr"
   },
   "outputs": [],
   "source": [
    "data = data[[\n",
    "    'date_block_num',\n",
    "    'shop_id',\n",
    "    'item_id',\n",
    "    'item_cnt_month',\n",
    "    'city_code',\n",
    "    'item_category_id',\n",
    "    'type_code',\n",
    "    'subtype_code',\n",
    "    'item_cnt_month_lag_1',\n",
    "    'item_cnt_month_lag_2',\n",
    "    'item_cnt_month_lag_3',\n",
    "    'item_cnt_month_lag_6',\n",
    "    'item_cnt_month_lag_12',\n",
    "    'date_avg_item_cnt_lag_1',\n",
    "    'date_item_avg_item_cnt_lag_1',\n",
    "    'date_item_avg_item_cnt_lag_2',\n",
    "    'date_item_avg_item_cnt_lag_3',\n",
    "    'date_item_avg_item_cnt_lag_6',\n",
    "    'date_item_avg_item_cnt_lag_12',\n",
    "    'date_shop_avg_item_cnt_lag_1',\n",
    "    'date_shop_avg_item_cnt_lag_2',\n",
    "    'date_shop_avg_item_cnt_lag_3',\n",
    "    'date_shop_avg_item_cnt_lag_6',\n",
    "    'date_shop_avg_item_cnt_lag_12',\n",
    "    'date_cat_avg_item_cnt_lag_1',\n",
    "    'date_shop_cat_avg_item_cnt_lag_1',\n",
    "    #'date_shop_type_avg_item_cnt_lag_1',\n",
    "    #'date_shop_subtype_avg_item_cnt_lag_1',\n",
    "    'date_city_avg_item_cnt_lag_1',\n",
    "    'date_item_city_avg_item_cnt_lag_1',\n",
    "    #'date_type_avg_item_cnt_lag_1',\n",
    "    #'date_subtype_avg_item_cnt_lag_1',\n",
    "    'delta_price_lag',\n",
    "    'month',\n",
    "    'days',\n",
    "    'item_shop_last_sale',\n",
    "    'item_last_sale',\n",
    "    'item_shop_first_sale',\n",
    "    'item_first_sale',\n",
    "]]"
   ]
  },
  {
   "cell_type": "code",
   "execution_count": 43,
   "metadata": {
    "colab": {},
    "colab_type": "code",
    "id": "g4QXowE3Vglx"
   },
   "outputs": [],
   "source": [
    "X_train = data[data.date_block_num < 33].drop(['item_cnt_month'], axis=1)\n",
    "Y_train = data[data.date_block_num < 33]['item_cnt_month']\n",
    "X_valid = data[data.date_block_num == 33].drop(['item_cnt_month'], axis=1)\n",
    "Y_valid = data[data.date_block_num == 33]['item_cnt_month']\n",
    "X_test = data[data.date_block_num == 34].drop(['item_cnt_month'], axis=1)"
   ]
  },
  {
   "cell_type": "code",
   "execution_count": 44,
   "metadata": {
    "colab": {},
    "colab_type": "code",
    "id": "PgOG_Gh6v1Fb"
   },
   "outputs": [],
   "source": [
    "gc.collect();"
   ]
  },
  {
   "cell_type": "code",
   "execution_count": 45,
   "metadata": {},
   "outputs": [
    {
     "name": "stderr",
     "output_type": "stream",
     "text": [
      "/opt/conda/lib/python3.6/site-packages/xgboost/core.py:587: FutureWarning: Series.base is deprecated and will be removed in a future version\n",
      "  if getattr(data, 'base', None) is not None and \\\n",
      "/opt/conda/lib/python3.6/site-packages/xgboost/core.py:588: FutureWarning: Series.base is deprecated and will be removed in a future version\n",
      "  data.base is not None and isinstance(data, np.ndarray) \\\n"
     ]
    },
    {
     "name": "stdout",
     "output_type": "stream",
     "text": [
      "[0]\tvalidation_0-rmse:1.14732\tvalidation_1-rmse:1.11491\n",
      "Multiple eval metrics have been passed: 'validation_1-rmse' will be used for early stopping.\n",
      "\n",
      "Will train until validation_1-rmse hasn't improved in 8 rounds.\n",
      "[1]\tvalidation_0-rmse:1.09628\tvalidation_1-rmse:1.07681\n",
      "[2]\tvalidation_0-rmse:1.05289\tvalidation_1-rmse:1.04542\n",
      "[3]\tvalidation_0-rmse:1.01523\tvalidation_1-rmse:1.01975\n",
      "[4]\tvalidation_0-rmse:0.985646\tvalidation_1-rmse:0.999197\n",
      "[5]\tvalidation_0-rmse:0.958151\tvalidation_1-rmse:0.982005\n",
      "[6]\tvalidation_0-rmse:0.936001\tvalidation_1-rmse:0.966824\n",
      "[7]\tvalidation_0-rmse:0.916014\tvalidation_1-rmse:0.956228\n",
      "[8]\tvalidation_0-rmse:0.899016\tvalidation_1-rmse:0.946154\n",
      "[9]\tvalidation_0-rmse:0.884933\tvalidation_1-rmse:0.938896\n",
      "[10]\tvalidation_0-rmse:0.872765\tvalidation_1-rmse:0.935415\n",
      "[11]\tvalidation_0-rmse:0.862323\tvalidation_1-rmse:0.929506\n",
      "[12]\tvalidation_0-rmse:0.85348\tvalidation_1-rmse:0.924557\n",
      "[13]\tvalidation_0-rmse:0.845176\tvalidation_1-rmse:0.922275\n",
      "[14]\tvalidation_0-rmse:0.838573\tvalidation_1-rmse:0.919352\n",
      "[15]\tvalidation_0-rmse:0.832668\tvalidation_1-rmse:0.916868\n",
      "[16]\tvalidation_0-rmse:0.82781\tvalidation_1-rmse:0.914455\n",
      "[17]\tvalidation_0-rmse:0.822802\tvalidation_1-rmse:0.914778\n",
      "[18]\tvalidation_0-rmse:0.819091\tvalidation_1-rmse:0.914274\n",
      "[19]\tvalidation_0-rmse:0.816109\tvalidation_1-rmse:0.913727\n",
      "[20]\tvalidation_0-rmse:0.812577\tvalidation_1-rmse:0.912363\n",
      "[21]\tvalidation_0-rmse:0.809491\tvalidation_1-rmse:0.911398\n",
      "[22]\tvalidation_0-rmse:0.806574\tvalidation_1-rmse:0.911154\n",
      "[23]\tvalidation_0-rmse:0.803889\tvalidation_1-rmse:0.911023\n",
      "[24]\tvalidation_0-rmse:0.80159\tvalidation_1-rmse:0.910067\n",
      "[25]\tvalidation_0-rmse:0.799126\tvalidation_1-rmse:0.910982\n",
      "[26]\tvalidation_0-rmse:0.797145\tvalidation_1-rmse:0.910833\n",
      "[27]\tvalidation_0-rmse:0.794981\tvalidation_1-rmse:0.911485\n",
      "[28]\tvalidation_0-rmse:0.793165\tvalidation_1-rmse:0.910793\n",
      "[29]\tvalidation_0-rmse:0.791349\tvalidation_1-rmse:0.911867\n",
      "[30]\tvalidation_0-rmse:0.789622\tvalidation_1-rmse:0.911456\n",
      "[31]\tvalidation_0-rmse:0.788067\tvalidation_1-rmse:0.911533\n",
      "[32]\tvalidation_0-rmse:0.786495\tvalidation_1-rmse:0.912837\n",
      "Stopping. Best iteration:\n",
      "[24]\tvalidation_0-rmse:0.80159\tvalidation_1-rmse:0.910067\n",
      "\n"
     ]
    },
    {
     "data": {
      "text/plain": [
       "2083.1573350429535"
      ]
     },
     "execution_count": 45,
     "metadata": {},
     "output_type": "execute_result"
    }
   ],
   "source": [
    "ts = time.time()\n",
    "dpth = 12\n",
    "\n",
    "model = XGBRegressor(\n",
    "    max_depth=dpth,\n",
    "    n_estimators=1000,\n",
    "    min_child_weight=300, \n",
    "    colsample_bytree=0.9, \n",
    "    subsample=0.9, \n",
    "    eta=0.01,    \n",
    "    seed=42)\n",
    "\n",
    "model.fit(\n",
    "    X_train, \n",
    "    Y_train, \n",
    "    eval_metric=\"rmse\", \n",
    "    eval_set=[(X_train, Y_train), (X_valid, Y_valid)], \n",
    "    verbose=True, \n",
    "    early_stopping_rounds = 8)\n",
    "\n",
    "time.time() - ts"
   ]
  },
  {
   "cell_type": "code",
   "execution_count": 46,
   "metadata": {},
   "outputs": [],
   "source": [
    "Y_pred = model.predict(X_valid).clip(0, 20)\n",
    "Y_test = model.predict(X_test).clip(0, 20)\n",
    "\n",
    "submission = pd.DataFrame({\n",
    "     \"ID\": test.index, \n",
    "     \"item_cnt_month\": Y_test\n",
    "  })\n",
    "submission.to_csv('/kaggle/working/xgb_submission.csv', index=False)"
   ]
  },
  {
   "cell_type": "code",
   "execution_count": 47,
   "metadata": {},
   "outputs": [],
   "source": [
    "# save predictions for an ensemble\n",
    "pickle.dump(Y_pred, open('/kaggle/working/xgb_train_1.pickle', 'wb'))\n",
    "pickle.dump(Y_test, open('/kaggle/working/xgb_test_1.pickle', 'wb'))"
   ]
  },
  {
   "cell_type": "code",
   "execution_count": 48,
   "metadata": {},
   "outputs": [
    {
     "data": {
      "text/plain": [
       "<matplotlib.axes._subplots.AxesSubplot at 0x7f077fe5f198>"
      ]
     },
     "execution_count": 48,
     "metadata": {},
     "output_type": "execute_result"
    },
    {
     "data": {
      "image/png": "[encoded data removed]",
      "text/plain": [
       "<Figure size 720x1008 with 1 Axes>"
      ]
     },
     "metadata": {},
     "output_type": "display_data"
    }
   ],
   "source": [
    "plot_features(model, (10,14))"
   ]
  },
  {
   "cell_type": "code",
   "execution_count": 49,
   "metadata": {},
   "outputs": [],
   "source": [
    "from sklearn.model_selection import train_test_split\n",
    "from lightgbm import LGBMRegressor"
   ]
  },
  {
   "cell_type": "code",
   "execution_count": 50,
   "metadata": {},
   "outputs": [
    {
     "name": "stdout",
     "output_type": "stream",
     "text": [
      "Light GBM Max_depth: 12\n",
      "[1]\ttraining's rmse: 1.17308\ttraining's l2: 1.37611\tvalid_1's rmse: 1.12465\tvalid_1's l2: 1.26484\n",
      "Training until validation scores don't improve for 10 rounds.\n",
      "[2]\ttraining's rmse: 1.15859\ttraining's l2: 1.34233\tvalid_1's rmse: 1.11378\tvalid_1's l2: 1.2405\n",
      "[3]\ttraining's rmse: 1.1448\ttraining's l2: 1.31057\tvalid_1's rmse: 1.10335\tvalid_1's l2: 1.21737\n",
      "[4]\ttraining's rmse: 1.13161\ttraining's l2: 1.28054\tvalid_1's rmse: 1.09372\tvalid_1's l2: 1.19622\n",
      "[5]\ttraining's rmse: 1.11921\ttraining's l2: 1.25264\tvalid_1's rmse: 1.08445\tvalid_1's l2: 1.17603\n",
      "[6]\ttraining's rmse: 1.10724\ttraining's l2: 1.22598\tvalid_1's rmse: 1.0758\tvalid_1's l2: 1.15735\n",
      "[7]\ttraining's rmse: 1.09589\ttraining's l2: 1.20097\tvalid_1's rmse: 1.06752\tvalid_1's l2: 1.1396\n",
      "[8]\ttraining's rmse: 1.08497\ttraining's l2: 1.17716\tvalid_1's rmse: 1.05962\tvalid_1's l2: 1.1228\n",
      "[9]\ttraining's rmse: 1.07456\ttraining's l2: 1.15467\tvalid_1's rmse: 1.05185\tvalid_1's l2: 1.1064\n",
      "[10]\ttraining's rmse: 1.06464\ttraining's l2: 1.13345\tvalid_1's rmse: 1.04442\tvalid_1's l2: 1.09081\n",
      "[11]\ttraining's rmse: 1.05519\ttraining's l2: 1.11342\tvalid_1's rmse: 1.03776\tvalid_1's l2: 1.07695\n",
      "[12]\ttraining's rmse: 1.04618\ttraining's l2: 1.0945\tvalid_1's rmse: 1.03153\tvalid_1's l2: 1.06406\n",
      "[13]\ttraining's rmse: 1.03756\ttraining's l2: 1.07653\tvalid_1's rmse: 1.02538\tvalid_1's l2: 1.0514\n",
      "[14]\ttraining's rmse: 1.0294\ttraining's l2: 1.05967\tvalid_1's rmse: 1.0197\tvalid_1's l2: 1.03979\n",
      "[15]\ttraining's rmse: 1.02197\ttraining's l2: 1.04442\tvalid_1's rmse: 1.01426\tvalid_1's l2: 1.02872\n",
      "[16]\ttraining's rmse: 1.01449\ttraining's l2: 1.0292\tvalid_1's rmse: 1.00935\tvalid_1's l2: 1.01879\n",
      "[17]\ttraining's rmse: 1.00738\ttraining's l2: 1.01482\tvalid_1's rmse: 1.00468\tvalid_1's l2: 1.00938\n",
      "[18]\ttraining's rmse: 1.00072\ttraining's l2: 1.00144\tvalid_1's rmse: 0.999959\tvalid_1's l2: 0.999918\n",
      "[19]\ttraining's rmse: 0.994278\ttraining's l2: 0.98859\tvalid_1's rmse: 0.99588\tvalid_1's l2: 0.991777\n",
      "[20]\ttraining's rmse: 0.988132\ttraining's l2: 0.976405\tvalid_1's rmse: 0.992263\tvalid_1's l2: 0.984585\n",
      "[21]\ttraining's rmse: 0.982355\ttraining's l2: 0.96502\tvalid_1's rmse: 0.98845\tvalid_1's l2: 0.977034\n",
      "[22]\ttraining's rmse: 0.976697\ttraining's l2: 0.953937\tvalid_1's rmse: 0.984652\tvalid_1's l2: 0.969539\n",
      "[23]\ttraining's rmse: 0.971237\ttraining's l2: 0.943302\tvalid_1's rmse: 0.981343\tvalid_1's l2: 0.963033\n",
      "[24]\ttraining's rmse: 0.966126\ttraining's l2: 0.933399\tvalid_1's rmse: 0.977904\tvalid_1's l2: 0.956296\n",
      "[25]\ttraining's rmse: 0.961269\ttraining's l2: 0.924039\tvalid_1's rmse: 0.974958\tvalid_1's l2: 0.950543\n",
      "[26]\ttraining's rmse: 0.956712\ttraining's l2: 0.915298\tvalid_1's rmse: 0.972068\tvalid_1's l2: 0.944917\n",
      "[27]\ttraining's rmse: 0.952282\ttraining's l2: 0.906841\tvalid_1's rmse: 0.969349\tvalid_1's l2: 0.939638\n",
      "[28]\ttraining's rmse: 0.948035\ttraining's l2: 0.898771\tvalid_1's rmse: 0.966597\tvalid_1's l2: 0.93431\n",
      "[29]\ttraining's rmse: 0.943953\ttraining's l2: 0.891047\tvalid_1's rmse: 0.964448\tvalid_1's l2: 0.93016\n",
      "[30]\ttraining's rmse: 0.940114\ttraining's l2: 0.883815\tvalid_1's rmse: 0.962295\tvalid_1's l2: 0.926011\n",
      "[31]\ttraining's rmse: 0.93651\ttraining's l2: 0.87705\tvalid_1's rmse: 0.959997\tvalid_1's l2: 0.921595\n",
      "[32]\ttraining's rmse: 0.932918\ttraining's l2: 0.870335\tvalid_1's rmse: 0.95792\tvalid_1's l2: 0.917611\n",
      "[33]\ttraining's rmse: 0.929495\ttraining's l2: 0.863961\tvalid_1's rmse: 0.956129\tvalid_1's l2: 0.914182\n",
      "[34]\ttraining's rmse: 0.926261\ttraining's l2: 0.857959\tvalid_1's rmse: 0.954199\tvalid_1's l2: 0.910496\n",
      "[35]\ttraining's rmse: 0.923234\ttraining's l2: 0.852362\tvalid_1's rmse: 0.95242\tvalid_1's l2: 0.907105\n",
      "[36]\ttraining's rmse: 0.920274\ttraining's l2: 0.846904\tvalid_1's rmse: 0.950819\tvalid_1's l2: 0.904056\n",
      "[37]\ttraining's rmse: 0.917474\ttraining's l2: 0.841758\tvalid_1's rmse: 0.949133\tvalid_1's l2: 0.900854\n",
      "[38]\ttraining's rmse: 0.914663\ttraining's l2: 0.836608\tvalid_1's rmse: 0.947575\tvalid_1's l2: 0.897899\n",
      "[39]\ttraining's rmse: 0.91206\ttraining's l2: 0.831854\tvalid_1's rmse: 0.946118\tvalid_1's l2: 0.89514\n",
      "[40]\ttraining's rmse: 0.90956\ttraining's l2: 0.827299\tvalid_1's rmse: 0.945013\tvalid_1's l2: 0.89305\n",
      "[41]\ttraining's rmse: 0.907007\ttraining's l2: 0.822662\tvalid_1's rmse: 0.943798\tvalid_1's l2: 0.890754\n",
      "[42]\ttraining's rmse: 0.904751\ttraining's l2: 0.818574\tvalid_1's rmse: 0.942691\tvalid_1's l2: 0.888667\n",
      "[43]\ttraining's rmse: 0.902555\ttraining's l2: 0.814605\tvalid_1's rmse: 0.941676\tvalid_1's l2: 0.886754\n",
      "[44]\ttraining's rmse: 0.90034\ttraining's l2: 0.810613\tvalid_1's rmse: 0.940289\tvalid_1's l2: 0.884143\n",
      "[45]\ttraining's rmse: 0.898339\ttraining's l2: 0.807013\tvalid_1's rmse: 0.939384\tvalid_1's l2: 0.882442\n",
      "[46]\ttraining's rmse: 0.896442\ttraining's l2: 0.803609\tvalid_1's rmse: 0.938255\tvalid_1's l2: 0.880322\n",
      "[47]\ttraining's rmse: 0.89459\ttraining's l2: 0.800292\tvalid_1's rmse: 0.937545\tvalid_1's l2: 0.878991\n",
      "[48]\ttraining's rmse: 0.892837\ttraining's l2: 0.797158\tvalid_1's rmse: 0.936737\tvalid_1's l2: 0.877477\n",
      "[49]\ttraining's rmse: 0.891201\ttraining's l2: 0.794239\tvalid_1's rmse: 0.935851\tvalid_1's l2: 0.875817\n",
      "[50]\ttraining's rmse: 0.889501\ttraining's l2: 0.791212\tvalid_1's rmse: 0.934783\tvalid_1's l2: 0.873819\n",
      "[51]\ttraining's rmse: 0.887876\ttraining's l2: 0.788324\tvalid_1's rmse: 0.933942\tvalid_1's l2: 0.872248\n",
      "[52]\ttraining's rmse: 0.886269\ttraining's l2: 0.785472\tvalid_1's rmse: 0.933251\tvalid_1's l2: 0.870958\n",
      "[53]\ttraining's rmse: 0.88462\ttraining's l2: 0.782552\tvalid_1's rmse: 0.93232\tvalid_1's l2: 0.86922\n",
      "[54]\ttraining's rmse: 0.883125\ttraining's l2: 0.779909\tvalid_1's rmse: 0.9317\tvalid_1's l2: 0.868065\n",
      "[55]\ttraining's rmse: 0.881598\ttraining's l2: 0.777215\tvalid_1's rmse: 0.930862\tvalid_1's l2: 0.866503\n",
      "[56]\ttraining's rmse: 0.880295\ttraining's l2: 0.774919\tvalid_1's rmse: 0.930391\tvalid_1's l2: 0.865627\n",
      "[57]\ttraining's rmse: 0.878969\ttraining's l2: 0.772586\tvalid_1's rmse: 0.929792\tvalid_1's l2: 0.864514\n",
      "[58]\ttraining's rmse: 0.877686\ttraining's l2: 0.770332\tvalid_1's rmse: 0.929032\tvalid_1's l2: 0.8631\n",
      "[59]\ttraining's rmse: 0.876394\ttraining's l2: 0.768066\tvalid_1's rmse: 0.928366\tvalid_1's l2: 0.861863\n",
      "[60]\ttraining's rmse: 0.875209\ttraining's l2: 0.765991\tvalid_1's rmse: 0.927982\tvalid_1's l2: 0.86115\n",
      "[61]\ttraining's rmse: 0.874144\ttraining's l2: 0.764127\tvalid_1's rmse: 0.92743\tvalid_1's l2: 0.860126\n",
      "[62]\ttraining's rmse: 0.872955\ttraining's l2: 0.762051\tvalid_1's rmse: 0.926793\tvalid_1's l2: 0.858945\n",
      "[63]\ttraining's rmse: 0.871801\ttraining's l2: 0.760038\tvalid_1's rmse: 0.926394\tvalid_1's l2: 0.858207\n",
      "[64]\ttraining's rmse: 0.870652\ttraining's l2: 0.758035\tvalid_1's rmse: 0.925844\tvalid_1's l2: 0.857187\n",
      "[65]\ttraining's rmse: 0.869578\ttraining's l2: 0.756166\tvalid_1's rmse: 0.925279\tvalid_1's l2: 0.856141\n",
      "[66]\ttraining's rmse: 0.868529\ttraining's l2: 0.754342\tvalid_1's rmse: 0.924896\tvalid_1's l2: 0.855433\n",
      "[67]\ttraining's rmse: 0.86755\ttraining's l2: 0.752644\tvalid_1's rmse: 0.924558\tvalid_1's l2: 0.854807\n",
      "[68]\ttraining's rmse: 0.866623\ttraining's l2: 0.751036\tvalid_1's rmse: 0.92424\tvalid_1's l2: 0.854219\n",
      "[69]\ttraining's rmse: 0.865653\ttraining's l2: 0.749356\tvalid_1's rmse: 0.923821\tvalid_1's l2: 0.853445\n",
      "[70]\ttraining's rmse: 0.864723\ttraining's l2: 0.747746\tvalid_1's rmse: 0.923429\tvalid_1's l2: 0.852721\n",
      "[71]\ttraining's rmse: 0.863835\ttraining's l2: 0.746211\tvalid_1's rmse: 0.923102\tvalid_1's l2: 0.852118\n",
      "[72]\ttraining's rmse: 0.862968\ttraining's l2: 0.744714\tvalid_1's rmse: 0.922848\tvalid_1's l2: 0.851648\n",
      "[73]\ttraining's rmse: 0.86214\ttraining's l2: 0.743285\tvalid_1's rmse: 0.922584\tvalid_1's l2: 0.851161\n",
      "[74]\ttraining's rmse: 0.861375\ttraining's l2: 0.741967\tvalid_1's rmse: 0.922289\tvalid_1's l2: 0.850617\n",
      "[75]\ttraining's rmse: 0.860685\ttraining's l2: 0.740779\tvalid_1's rmse: 0.922002\tvalid_1's l2: 0.850088\n",
      "[76]\ttraining's rmse: 0.859871\ttraining's l2: 0.739378\tvalid_1's rmse: 0.92156\tvalid_1's l2: 0.849274\n",
      "[77]\ttraining's rmse: 0.859117\ttraining's l2: 0.738083\tvalid_1's rmse: 0.921422\tvalid_1's l2: 0.849018\n",
      "[78]\ttraining's rmse: 0.85843\ttraining's l2: 0.736902\tvalid_1's rmse: 0.921427\tvalid_1's l2: 0.849029\n",
      "[79]\ttraining's rmse: 0.857797\ttraining's l2: 0.735815\tvalid_1's rmse: 0.921198\tvalid_1's l2: 0.848606\n",
      "[80]\ttraining's rmse: 0.857221\ttraining's l2: 0.734828\tvalid_1's rmse: 0.921013\tvalid_1's l2: 0.848266\n",
      "[81]\ttraining's rmse: 0.856558\ttraining's l2: 0.733692\tvalid_1's rmse: 0.920596\tvalid_1's l2: 0.847496\n",
      "[82]\ttraining's rmse: 0.855867\ttraining's l2: 0.732509\tvalid_1's rmse: 0.92066\tvalid_1's l2: 0.847615\n",
      "[83]\ttraining's rmse: 0.85531\ttraining's l2: 0.731556\tvalid_1's rmse: 0.920441\tvalid_1's l2: 0.847212\n",
      "[84]\ttraining's rmse: 0.854699\ttraining's l2: 0.730511\tvalid_1's rmse: 0.920389\tvalid_1's l2: 0.847117\n",
      "[85]\ttraining's rmse: 0.854087\ttraining's l2: 0.729464\tvalid_1's rmse: 0.920261\tvalid_1's l2: 0.84688\n",
      "[86]\ttraining's rmse: 0.853407\ttraining's l2: 0.728303\tvalid_1's rmse: 0.919947\tvalid_1's l2: 0.846302\n",
      "[87]\ttraining's rmse: 0.852803\ttraining's l2: 0.727272\tvalid_1's rmse: 0.91988\tvalid_1's l2: 0.84618\n",
      "[88]\ttraining's rmse: 0.852239\ttraining's l2: 0.726312\tvalid_1's rmse: 0.919879\tvalid_1's l2: 0.846178\n",
      "[89]\ttraining's rmse: 0.851668\ttraining's l2: 0.725338\tvalid_1's rmse: 0.919596\tvalid_1's l2: 0.845657\n",
      "[90]\ttraining's rmse: 0.851103\ttraining's l2: 0.724377\tvalid_1's rmse: 0.919453\tvalid_1's l2: 0.845393\n",
      "[91]\ttraining's rmse: 0.85064\ttraining's l2: 0.723589\tvalid_1's rmse: 0.919371\tvalid_1's l2: 0.845243\n",
      "[92]\ttraining's rmse: 0.850145\ttraining's l2: 0.722746\tvalid_1's rmse: 0.919274\tvalid_1's l2: 0.845065\n",
      "[93]\ttraining's rmse: 0.849638\ttraining's l2: 0.721885\tvalid_1's rmse: 0.919031\tvalid_1's l2: 0.844618\n",
      "[94]\ttraining's rmse: 0.849179\ttraining's l2: 0.721104\tvalid_1's rmse: 0.918925\tvalid_1's l2: 0.844422\n",
      "[95]\ttraining's rmse: 0.848703\ttraining's l2: 0.720297\tvalid_1's rmse: 0.918851\tvalid_1's l2: 0.844288\n",
      "[96]\ttraining's rmse: 0.84823\ttraining's l2: 0.719494\tvalid_1's rmse: 0.918559\tvalid_1's l2: 0.84375\n",
      "[97]\ttraining's rmse: 0.84781\ttraining's l2: 0.718782\tvalid_1's rmse: 0.918347\tvalid_1's l2: 0.843362\n",
      "[98]\ttraining's rmse: 0.847372\ttraining's l2: 0.71804\tvalid_1's rmse: 0.918352\tvalid_1's l2: 0.843371\n",
      "[99]\ttraining's rmse: 0.846884\ttraining's l2: 0.717213\tvalid_1's rmse: 0.918381\tvalid_1's l2: 0.843425\n",
      "[100]\ttraining's rmse: 0.846528\ttraining's l2: 0.71661\tvalid_1's rmse: 0.918168\tvalid_1's l2: 0.843032\n",
      "[101]\ttraining's rmse: 0.846121\ttraining's l2: 0.715921\tvalid_1's rmse: 0.918035\tvalid_1's l2: 0.842789\n",
      "[102]\ttraining's rmse: 0.845661\ttraining's l2: 0.715143\tvalid_1's rmse: 0.918014\tvalid_1's l2: 0.84275\n",
      "[103]\ttraining's rmse: 0.845218\ttraining's l2: 0.714394\tvalid_1's rmse: 0.917867\tvalid_1's l2: 0.842479\n",
      "[104]\ttraining's rmse: 0.844764\ttraining's l2: 0.713626\tvalid_1's rmse: 0.917819\tvalid_1's l2: 0.842392\n",
      "[105]\ttraining's rmse: 0.844303\ttraining's l2: 0.712847\tvalid_1's rmse: 0.917507\tvalid_1's l2: 0.841819\n",
      "[106]\ttraining's rmse: 0.843914\ttraining's l2: 0.712191\tvalid_1's rmse: 0.917574\tvalid_1's l2: 0.841942\n",
      "[107]\ttraining's rmse: 0.84343\ttraining's l2: 0.711374\tvalid_1's rmse: 0.917291\tvalid_1's l2: 0.841423\n",
      "[108]\ttraining's rmse: 0.842975\ttraining's l2: 0.710608\tvalid_1's rmse: 0.917374\tvalid_1's l2: 0.841576\n",
      "[109]\ttraining's rmse: 0.842597\ttraining's l2: 0.709969\tvalid_1's rmse: 0.917357\tvalid_1's l2: 0.841544\n",
      "[110]\ttraining's rmse: 0.842213\ttraining's l2: 0.709324\tvalid_1's rmse: 0.917294\tvalid_1's l2: 0.841428\n",
      "[111]\ttraining's rmse: 0.841896\ttraining's l2: 0.708789\tvalid_1's rmse: 0.917328\tvalid_1's l2: 0.84149\n",
      "[112]\ttraining's rmse: 0.841576\ttraining's l2: 0.70825\tvalid_1's rmse: 0.917301\tvalid_1's l2: 0.84144\n",
      "[113]\ttraining's rmse: 0.841207\ttraining's l2: 0.707629\tvalid_1's rmse: 0.917292\tvalid_1's l2: 0.841425\n",
      "[114]\ttraining's rmse: 0.84085\ttraining's l2: 0.707029\tvalid_1's rmse: 0.917175\tvalid_1's l2: 0.84121\n",
      "[115]\ttraining's rmse: 0.840511\ttraining's l2: 0.70646\tvalid_1's rmse: 0.917101\tvalid_1's l2: 0.841074\n",
      "[116]\ttraining's rmse: 0.840198\ttraining's l2: 0.705933\tvalid_1's rmse: 0.917002\tvalid_1's l2: 0.840892\n",
      "[117]\ttraining's rmse: 0.83991\ttraining's l2: 0.705448\tvalid_1's rmse: 0.916918\tvalid_1's l2: 0.840738\n",
      "[118]\ttraining's rmse: 0.839565\ttraining's l2: 0.704869\tvalid_1's rmse: 0.917071\tvalid_1's l2: 0.84102\n",
      "[119]\ttraining's rmse: 0.839245\ttraining's l2: 0.704333\tvalid_1's rmse: 0.917\tvalid_1's l2: 0.840889\n",
      "[120]\ttraining's rmse: 0.838922\ttraining's l2: 0.70379\tvalid_1's rmse: 0.917093\tvalid_1's l2: 0.841059\n",
      "[121]\ttraining's rmse: 0.838607\ttraining's l2: 0.703262\tvalid_1's rmse: 0.917031\tvalid_1's l2: 0.840945\n",
      "[122]\ttraining's rmse: 0.838113\ttraining's l2: 0.702433\tvalid_1's rmse: 0.917717\tvalid_1's l2: 0.842205\n",
      "[123]\ttraining's rmse: 0.83777\ttraining's l2: 0.701859\tvalid_1's rmse: 0.917601\tvalid_1's l2: 0.841991\n",
      "[124]\ttraining's rmse: 0.837522\ttraining's l2: 0.701444\tvalid_1's rmse: 0.917456\tvalid_1's l2: 0.841725\n",
      "[125]\ttraining's rmse: 0.837289\ttraining's l2: 0.701052\tvalid_1's rmse: 0.917333\tvalid_1's l2: 0.8415\n",
      "[126]\ttraining's rmse: 0.836946\ttraining's l2: 0.700479\tvalid_1's rmse: 0.917127\tvalid_1's l2: 0.841121\n",
      "[127]\ttraining's rmse: 0.836688\ttraining's l2: 0.700047\tvalid_1's rmse: 0.917056\tvalid_1's l2: 0.840992\n",
      "Early stopping, best iteration is:\n",
      "[117]\ttraining's rmse: 0.83991\ttraining's l2: 0.705448\tvalid_1's rmse: 0.916918\tvalid_1's l2: 0.840738\n"
     ]
    },
    {
     "data": {
      "text/plain": [
       "154.3030731678009"
      ]
     },
     "execution_count": 50,
     "metadata": {},
     "output_type": "execute_result"
    }
   ],
   "source": [
    "ts = time.time()\n",
    "dpth=12\n",
    "print ('Light GBM Max_depth: %d' % dpth)\n",
    "model_2=LGBMRegressor(\n",
    "        max_depth=dpth,\n",
    "        n_estimators=200,\n",
    "        learning_rate=0.03,\n",
    "        num_leaves=32,\n",
    "        colsample_bytree=0.9497036,\n",
    "        subsample=0.8715623,\n",
    "        reg_alpha=0.04,\n",
    "        reg_lambda=0.073,\n",
    "        min_split_gain=0.0222415,\n",
    "        min_child_weight=40)\n",
    "\n",
    "model_2.fit(\n",
    "    X_train, \n",
    "    Y_train, \n",
    "    eval_metric=\"rmse\", \n",
    "    eval_set=[(X_train, Y_train), (X_valid, Y_valid)], \n",
    "    verbose=True, \n",
    "    early_stopping_rounds = 10)\n",
    "\n",
    "time.time() - ts"
   ]
  },
  {
   "cell_type": "code",
   "execution_count": 51,
   "metadata": {},
   "outputs": [],
   "source": [
    "Y_pred_2 = model_2.predict(X_valid).clip(0, 20)\n",
    "Y_test_2 = model_2.predict(X_test).clip(0, 20)\n",
    "\n",
    "submission = pd.DataFrame({\n",
    "     \"ID\": test.index,\n",
    "     \"item_cnt_month\": Y_test_2\n",
    "  })\n",
    "submission.to_csv('/kaggle/working/xgb_submission_2.csv', index=False)"
   ]
  },
  {
   "cell_type": "code",
   "execution_count": 52,
   "metadata": {},
   "outputs": [],
   "source": [
    "# save predictions for an ensemble\n",
    "pickle.dump(Y_pred_2, open('/kaggle/working/xgb_train_2.pickle', 'wb'))\n",
    "pickle.dump(Y_test_2, open('/kaggle/working/xgb_test_2.pickle', 'wb'))"
   ]
  },
  {
   "cell_type": "code",
   "execution_count": 53,
   "metadata": {},
   "outputs": [],
   "source": [
    "#ts = time.time()\n",
    "#MaxDepth = [1, 3, 5, 7, 10, 12]\n",
    "#for i, dpth in enumerate(MaxDepth):\n",
    "#    print ('XGBoost Max_depth: %d' % dpth)\n",
    "#    model = XGBRegressor(\n",
    "#        max_depth=dpth,\n",
    "#        n_estimators=1000,\n",
    "#        min_child_weight=300, \n",
    "#        colsample_bytree=0.9, \n",
    "#        subsample=0.9, \n",
    "#        eta=0.01,    \n",
    "#        seed=42)\n",
    "\n",
    "#    model.fit(\n",
    "#        X_train, \n",
    "#        Y_train, \n",
    "#        eval_metric=\"rmse\", \n",
    "#        eval_set=[(X_train, Y_train), (X_valid, Y_valid)], \n",
    "#        verbose=True, \n",
    "#        early_stopping_rounds = 8)\n",
    "\n",
    "#time.time() - ts"
   ]
  },
  {
   "cell_type": "code",
   "execution_count": 54,
   "metadata": {},
   "outputs": [],
   "source": [
    "#ts = time.time()\n",
    "#MaxDepth = [5, 7, 10, 12]\n",
    "#for i, dpth in enumerate(MaxDepth):\n",
    "#    print ('XGBoost Max_depth: %d' % dpth)\n",
    "#    model = XGBRegressor(\n",
    "#        max_depth=dpth,\n",
    "#        n_estimators=1000,\n",
    "#        min_child_weight=200, \n",
    "#        colsample_bytree=0.95, \n",
    "#        subsample=0.95, \n",
    "#        eta=0.01,    \n",
    "#        seed=42)\n",
    "\n",
    "#    Y_pred = model.predict(X_valid).clip(0, 20)\n",
    "#    Y_test = model.predict(X_test).clip(0, 20)\n",
    "\n",
    "#    submission = pd.DataFrame({\n",
    "#        \"ID\": test.index, \n",
    "#        \"item_cnt_month\": Y_test\n",
    "#    })\n",
    "\n",
    "#    if   MaxDepth == 1 :\n",
    "#        submission.to_csv('xgb_submission_1.csv', index=False)\n",
    "#    elif MaxDepth == 3 :\n",
    "#        submission.to_csv('xgb_submission_2.csv', index=False)\n",
    "#    elif MaxDepth == 5 :\n",
    "#        submission.to_csv('xgb_submission_3.csv', index=False)\n",
    "#    elif MaxDepth == 7 :\n",
    "#        submission.to_csv('xgb_submission_4.csv', index=False)\n",
    "#    elif MaxDepth == 10 :\n",
    "#        submission.to_csv('xgb_submission_5.csv', index=False)\n",
    "#    elif MaxDepth == 12 :\n",
    "#        submission.to_csv('xgb_submission_6.csv', index=False)\n",
    "#time.time() - ts"
   ]
  },
  {
   "cell_type": "code",
   "execution_count": 55,
   "metadata": {},
   "outputs": [],
   "source": [
    "# save predictions for an ensemble\n",
    "#pickle.dump(Y_pred, open('xgb_train.pickle', 'wb'))\n",
    "#pickle.dump(Y_test, open('xgb_test.pickle', 'wb'))"
   ]
  },
  {
   "cell_type": "code",
   "execution_count": 56,
   "metadata": {},
   "outputs": [],
   "source": [
    "#plt.figure(figsize=(16, 32))\n",
    "#hidden_layer_sizes = [1, 2, 3, 4, 5, 20, 50]\n",
    "#for i, n_h in enumerate(hidden_layer_sizes):\n",
    "#plt.subplot(5, 2, i+1)\n",
    "#plt.title('Hidden Layer of size %d' % n_h)\n",
    "#parameters = nn_model(X, Y, n_h, num_iterations = 5000)\n",
    "#plot_decision_boundary(lambda x: predict(parameters, x.T), X, Y)\n",
    "#predictions = predict(parameters, X)\n",
    "#accuracy = float((np.dot(Y,predictions.T) + np.dot(1-Y,1-predictions.T))/float(Y.size)*100)\n",
    "#print (\"Accuracy for {} hidden units: {} %\".format(n_h, accuracy))"
   ]
  }
 ],
 "metadata": {
  "accelerator": "GPU",
  "colab": {
   "collapsed_sections": [],
   "name": "NN_Project_1_plus_model.ipynb",
   "provenance": [],
   "version": "0.3.2"
  },
  "kernelspec": {
   "display_name": "Python 3",
   "name": "python3"
  }
 },
 "nbformat": 4,
 "nbformat_minor": 1
}
